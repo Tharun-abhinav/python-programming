{
 "cells": [
  {
   "cell_type": "code",
   "execution_count": 1,
   "metadata": {
    "scrolled": true
   },
   "outputs": [
    {
     "name": "stdout",
     "output_type": "stream",
     "text": [
      "file is create sucessfully and data is Written\n"
     ]
    }
   ],
   "source": [
    "#Function to create a file and write some data\n",
    "def createFile(filename):\n",
    "  f = open(filename,\"w\")\n",
    "  for i in range(10):\n",
    "    f.write(\"this is %d line\\n\"%i)\n",
    "  print(\"file is create sucessfully and data is Written\")\n",
    "  f.close()\n",
    "  return\n",
    "createFile(\"file.txt\")"
   ]
  },
  {
   "cell_type": "code",
   "execution_count": 2,
   "metadata": {
    "scrolled": true
   },
   "outputs": [
    {
     "name": "stdout",
     "output_type": "stream",
     "text": [
      "this is 0 line\n",
      "this is 1 line\n",
      "this is 2 line\n",
      "this is 3 line\n",
      "this is 4 line\n",
      "this is 5 line\n",
      "this is 6 line\n",
      "this is 7 line\n",
      "this is 8 line\n",
      "this is 9 line\n",
      "\n"
     ]
    }
   ],
   "source": [
    "#function for responding the file data\n",
    "def readfile(filename):\n",
    "  f=open(filename,\"r\")\n",
    "  if f.mode==\"r\":\n",
    "    x=f.read()\n",
    "  print(x)\n",
    "  f.close()\n",
    "  return\n",
    "readfile(\"file.txt\")"
   ]
  },
  {
   "cell_type": "code",
   "execution_count": 7,
   "metadata": {
    "scrolled": false
   },
   "outputs": [
    {
     "ename": "SyntaxError",
     "evalue": "invalid syntax (<ipython-input-7-9d6aea545c05>, line 4)",
     "output_type": "error",
     "traceback": [
      "\u001b[1;36m  File \u001b[1;32m\"<ipython-input-7-9d6aea545c05>\"\u001b[1;36m, line \u001b[1;32m4\u001b[0m\n\u001b[1;33m    if f.mode=\"r\":\u001b[0m\n\u001b[1;37m             ^\u001b[0m\n\u001b[1;31mSyntaxError\u001b[0m\u001b[1;31m:\u001b[0m invalid syntax\n"
     ]
    }
   ],
   "source": [
    "#function to count of character in a file\n",
    "def countcharacter(filename):\n",
    "    f=open(filename=\"r\")\n",
    "    if f.mode=\"r\":\n",
    "        x=f.read()\n",
    "        lst=list(x)        \n",
    "        return len(lst)  \n",
    "    print(countchracter(\"file.txt\"))`   "
   ]
  },
  {
   "cell_type": "code",
   "execution_count": null,
   "metadata": {},
   "outputs": [],
   "source": [
    "#data to append\n",
    "#function to append data in a file\n"
   ]
  }
 ],
 "metadata": {
  "kernelspec": {
   "display_name": "Python 3",
   "language": "python",
   "name": "python3"
  },
  "language_info": {
   "codemirror_mode": {
    "name": "ipython",
    "version": 3
   },
   "file_extension": ".py",
   "mimetype": "text/x-python",
   "name": "python",
   "nbconvert_exporter": "python",
   "pygments_lexer": "ipython3",
   "version": "3.7.3"
  }
 },
 "nbformat": 4,
 "nbformat_minor": 2
}
